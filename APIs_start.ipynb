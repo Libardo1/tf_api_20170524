{
 "cells": [
  {
   "cell_type": "markdown",
   "metadata": {},
   "source": [
    "# TensorFlow APIs\n",
    "\n",
    "---\n",
    "\n",
    "### Listing files in a directory: Plain Python (off-graph)"
   ]
  },
  {
   "cell_type": "code",
   "execution_count": null,
   "metadata": {
    "collapsed": false
   },
   "outputs": [],
   "source": [
    "import glob\n",
    "\n",
    "glob.glob('my_dir/*')"
   ]
  },
  {
   "cell_type": "markdown",
   "metadata": {},
   "source": [
    "### Listing files in a directory: TensorFlow ops (on-graph)"
   ]
  },
  {
   "cell_type": "code",
   "execution_count": null,
   "metadata": {
    "collapsed": false
   },
   "outputs": [],
   "source": [
    "import tensorflow as tf\n",
    "\n",
    "glob = tf.matching_files('my_dir/*')\n",
    "\n",
    "session = tf.Session()\n",
    "session.run(glob)"
   ]
  },
  {
   "cell_type": "markdown",
   "metadata": {},
   "source": [
    "For more, see: [Everything in the Graph? Even Glob?](http://planspace.org/20170428-everything_in_the_graph_even_glob/)\n",
    "\n",
    "For an example of TensorFlow functionality with off-graph and on-graph alternatives, see:\n",
    " * [TFRecords for Humans](http://planspace.org/20170323-tfrecords_for_humans/) (off-graph)\n",
    " * [Parsing TFRecords inside the TensorFlow Graph](http://planspace.org/20170426-parsing_tfrecords_inside_the_tensorflow_graph/) (on-graph)\n",
    "\n",
    "---\n",
    "\n",
    "### Making a Convolutional Layer: Graph Op-Level"
   ]
  },
  {
   "cell_type": "code",
   "execution_count": null,
   "metadata": {
    "collapsed": false
   },
   "outputs": [],
   "source": [
    "x = tf.placeholder(tf.float32, shape=[None, 28, 28, 1])\n",
    "\n",
    "weight_initial = tf.truncated_normal([5, 5, 1, 32], stddev=0.1)\n",
    "weight = tf.Variable(weight_initial)\n",
    "bias_initial = tf.constant(0.1, shape=[32])\n",
    "bias = tf.Variable(bias_initial)\n",
    "\n",
    "convolved = tf.nn.conv2d(x, weight, strides=[1, 1, 1, 1], padding='SAME')\n",
    "convolved_biased = convolved + bias\n",
    "y = tf.nn.relu(convolved_biased)"
   ]
  },
  {
   "cell_type": "markdown",
   "metadata": {},
   "source": [
    "Based on: [Build a Multilayer Convolutional Network](https://www.tensorflow.org/get_started/mnist/pros#build_a_multilayer_convolutional_network)\n",
    "\n",
    "### Making a Convolutional Layer: Layers"
   ]
  },
  {
   "cell_type": "code",
   "execution_count": null,
   "metadata": {
    "collapsed": true
   },
   "outputs": [],
   "source": [
    "x = tf.placeholder(tf.float32, shape=[None, 28, 28, 1])\n",
    "\n",
    "y = tf.layers.conv2d(inputs=x, \n",
    "                     filters=32, kernel_size=[5, 5], padding='same', \n",
    "                     activation=tf.nn.relu)"
   ]
  },
  {
   "cell_type": "markdown",
   "metadata": {},
   "source": [
    "Based on: [A Guide to TF Layers: Building a Convolutional Neural Network](https://www.tensorflow.org/tutorials/layers)\n",
    "\n",
    "### Making a Convolutional Layer: Keras Functional"
   ]
  },
  {
   "cell_type": "code",
   "execution_count": null,
   "metadata": {
    "collapsed": false
   },
   "outputs": [],
   "source": [
    "x = tf.contrib.keras.layers.Input(shape=[28, 28, 1])\n",
    "\n",
    "y = tf.contrib.keras.layers.Conv2D(filters=32, kernel_size=[5, 5], padding='same',\n",
    "                                   activation='relu')(x)"
   ]
  },
  {
   "cell_type": "markdown",
   "metadata": {},
   "source": [
    "### Making a Convolutional Layer: Keras `Sequential`"
   ]
  },
  {
   "cell_type": "code",
   "execution_count": null,
   "metadata": {
    "collapsed": true
   },
   "outputs": [],
   "source": [
    "model = tf.contrib.keras.models.Sequential()\n",
    "\n",
    "model.add(tf.contrib.keras.layers.Conv2D(filters=32, kernel_size=[5, 5], padding='same',\n",
    "                                         activation='relu', \n",
    "                                         input_shape=[28, 28, 1]))"
   ]
  },
  {
   "cell_type": "markdown",
   "metadata": {},
   "source": [
    "### More advanced TensorFlow Keras"
   ]
  },
  {
   "cell_type": "code",
   "execution_count": null,
   "metadata": {
    "collapsed": true
   },
   "outputs": [],
   "source": [
    "x = tf.contrib.keras.layers.Input(shape=[28, 28, 1])\n",
    "residual = x\n",
    "x = tf.contrib.keras.layers.Activation('relu')(x)\n",
    "x = tf.contrib.keras.layers.SeparableConv2D(filters=728, kernel_size=[3, 3], padding='same')(x)\n",
    "x = tf.contrib.keras.layers.BatchNormalization()(x)\n",
    "y = tf.contrib.keras.layers.add([x, residual])"
   ]
  },
  {
   "cell_type": "markdown",
   "metadata": {},
   "source": [
    "This is a cartoon of a section from: [xception.py](https://github.com/tensorflow/tensorflow/blob/master/tensorflow/contrib/keras/python/keras/applications/xception.py)\n",
    "\n",
    "See also: [Xception: Deep Learning with Depthwise Separable Convolutions](https://arxiv.org/abs/1610.02357)\n",
    "\n",
    "### Expected around TensorFlow 1.3"
   ]
  },
  {
   "cell_type": "code",
   "execution_count": null,
   "metadata": {
    "collapsed": true
   },
   "outputs": [],
   "source": [
    "# estimator = keras_model.get_estimator()"
   ]
  },
  {
   "cell_type": "markdown",
   "metadata": {},
   "source": [
    "---\n",
    "\n",
    "### Simple regression example\n",
    "\n",
    "Predicting annualized US GDP growth from presidential party. ([data](http://planspace.org/20170505-simple_dataset_us_presidential_party_and_gdp_growth/))"
   ]
  },
  {
   "cell_type": "code",
   "execution_count": null,
   "metadata": {
    "collapsed": false
   },
   "outputs": [],
   "source": [
    "!head -3 president_gdp.csv"
   ]
  },
  {
   "cell_type": "code",
   "execution_count": null,
   "metadata": {
    "collapsed": true
   },
   "outputs": [],
   "source": [
    "import numpy as np\n",
    "import pandas as pd\n",
    "\n",
    "data = pd.read_csv('president_gdp.csv')\n",
    "party = data.party == 'D'\n",
    "party = np.expand_dims(party, axis=1)\n",
    "growth = data.growth"
   ]
  },
  {
   "cell_type": "markdown",
   "metadata": {},
   "source": [
    "### Simple regression with `sklearn`"
   ]
  },
  {
   "cell_type": "code",
   "execution_count": null,
   "metadata": {
    "collapsed": false
   },
   "outputs": [],
   "source": [
    "import sklearn.linear_model\n",
    "\n",
    "model = sklearn.linear_model.LinearRegression()\n",
    "model.fit(X=party, y=growth)\n",
    "model.predict([[0], [1]])"
   ]
  },
  {
   "cell_type": "markdown",
   "metadata": {},
   "source": [
    "### Simple regression with a TensorFlow canned Estimator"
   ]
  },
  {
   "cell_type": "code",
   "execution_count": null,
   "metadata": {
    "collapsed": true
   },
   "outputs": [],
   "source": [
    "# clear old run...\n",
    "import shutil\n",
    "shutil.rmtree('tflinreg', ignore_errors=True)"
   ]
  },
  {
   "cell_type": "code",
   "execution_count": null,
   "metadata": {
    "collapsed": true
   },
   "outputs": [],
   "source": [
    "party_col = tf.contrib.layers.real_valued_column(column_name='')"
   ]
  },
  {
   "cell_type": "code",
   "execution_count": null,
   "metadata": {
    "collapsed": false
   },
   "outputs": [],
   "source": [
    "model = tf.contrib.learn.LinearRegressor(feature_columns=[party_col],\n",
    "                                         model_dir='tflinreg')"
   ]
  },
  {
   "cell_type": "code",
   "execution_count": null,
   "metadata": {
    "collapsed": false,
    "scrolled": true
   },
   "outputs": [],
   "source": [
    "model.fit(x=party, y=growth, steps=1000)\n",
    "list(model.predict(np.array([[0], [1]])))"
   ]
  },
  {
   "cell_type": "code",
   "execution_count": null,
   "metadata": {
    "collapsed": false
   },
   "outputs": [],
   "source": [
    "!tensorboard --logdir tflinreg"
   ]
  },
  {
   "cell_type": "markdown",
   "metadata": {},
   "source": [
    "After startup, go to http://localhost:6006/ to see the interface.\n",
    "\n",
    "To continue with the notebook, interrupt the kernel by using the square \"stop\" button or by typing esc, i, i.\n",
    "\n",
    "For more, see:\n",
    " * [Simple Regression with a TensorFlow Estimator](http://planspace.org/20170506-simple_regression_with_a_tensorflow_estimator/)\n",
    " * [Navigating TensorFlow Estimator Documentation](http://planspace.org/20170521-navigating_tensorflow_estimator_documentation/)\n",
    " *  Feature columns, input functions, model functions, experiments, `learn_runner`, and more!\n",
    "\n",
    "---\n",
    "\n",
    "### The `Dataset` API\n",
    "\n",
    "The comparison to the low-level way of doing this is a little involved; for more, see:\n",
    " * [TensorFlow documentation on an 8-step data pipeline](https://www.tensorflow.org/programmers_guide/reading_data#reading_from_files)\n",
    " * [TensorFlow and Queues](http://planspace.org/20170327-tensorflow_and_queues/)\n",
    " * [The TensorFlow Coordinator for Python Threading](http://planspace.org/20170324-the_tensorflow_coordinator_for_python_threading/)\n",
    " * [TensorFlow's QueueRunner](http://planspace.org/20170430-tensorflows_queuerunner/)"
   ]
  },
  {
   "cell_type": "code",
   "execution_count": null,
   "metadata": {
    "collapsed": false
   },
   "outputs": [],
   "source": [
    "dataset = tf.contrib.data.TextLineDataset('president_gdp.csv')\n",
    "iterator = dataset.make_one_shot_iterator()\n",
    "next_element = iterator.get_next()\n",
    "\n",
    "session = tf.Session()\n",
    "session.run(next_element)"
   ]
  },
  {
   "cell_type": "code",
   "execution_count": null,
   "metadata": {
    "collapsed": false
   },
   "outputs": [],
   "source": [
    "session.run(next_element)"
   ]
  },
  {
   "cell_type": "code",
   "execution_count": null,
   "metadata": {
    "collapsed": false
   },
   "outputs": [],
   "source": [
    "session.run(next_element)"
   ]
  },
  {
   "cell_type": "markdown",
   "metadata": {},
   "source": [
    "For more, see: [Using the `Dataset` API for TensorFlow Input Pipelines](https://github.com/tensorflow/tensorflow/tree/master/tensorflow/contrib/data)\n",
    "\n",
    "---\n",
    "\n",
    "### Using a pre-trained model with Keras in TensorFlow"
   ]
  },
  {
   "cell_type": "code",
   "execution_count": null,
   "metadata": {
    "collapsed": true
   },
   "outputs": [],
   "source": [
    "model = tf.contrib.keras.applications.InceptionV3()"
   ]
  },
  {
   "cell_type": "code",
   "execution_count": null,
   "metadata": {
    "collapsed": false
   },
   "outputs": [],
   "source": [
    "filename = 'n01882714_4157_koala_bear.jpg'\n",
    "image = tf.contrib.keras.preprocessing.image.load_img(\n",
    "    filename, target_size=(299, 299))"
   ]
  },
  {
   "cell_type": "code",
   "execution_count": null,
   "metadata": {
    "collapsed": false
   },
   "outputs": [],
   "source": [
    "import matplotlib.pyplot as plt\n",
    "%matplotlib inline\n",
    "\n",
    "plt.imshow(image)"
   ]
  },
  {
   "cell_type": "code",
   "execution_count": null,
   "metadata": {
    "collapsed": false
   },
   "outputs": [],
   "source": [
    "array = tf.contrib.keras.preprocessing.image.img_to_array(image)\n",
    "array = np.expand_dims(array, axis=0)\n",
    "array = tf.contrib.keras.applications.inception_v3.preprocess_input(array)"
   ]
  },
  {
   "cell_type": "code",
   "execution_count": null,
   "metadata": {
    "collapsed": false
   },
   "outputs": [],
   "source": [
    "probabilities = model.predict(array)"
   ]
  },
  {
   "cell_type": "code",
   "execution_count": null,
   "metadata": {
    "collapsed": false
   },
   "outputs": [],
   "source": [
    "tf.contrib.keras.applications.inception_v3.decode_predictions(probabilities)"
   ]
  },
  {
   "cell_type": "markdown",
   "metadata": {},
   "source": [
    "For more, see: [Pre-trained Models with Keras in TensorFlow](http://planspace.org/20170502-canned_models_with_keras_in_tensorflow/)"
   ]
  },
  {
   "cell_type": "code",
   "execution_count": null,
   "metadata": {
    "collapsed": true
   },
   "outputs": [],
   "source": []
  }
 ],
 "metadata": {
  "kernelspec": {
   "display_name": "Python 2",
   "language": "python",
   "name": "python2"
  },
  "language_info": {
   "codemirror_mode": {
    "name": "ipython",
    "version": 2
   },
   "file_extension": ".py",
   "mimetype": "text/x-python",
   "name": "python",
   "nbconvert_exporter": "python",
   "pygments_lexer": "ipython2",
   "version": "2.7.11"
  }
 },
 "nbformat": 4,
 "nbformat_minor": 0
}
